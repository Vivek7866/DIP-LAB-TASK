{
 "cells": [
  {
   "cell_type": "code",
   "execution_count": 51,
   "metadata": {
    "collapsed": true
   },
   "outputs": [],
   "source": [
    "filt= [[4,4,3,2],[3,7,6,1],[2,7,6,2],[0,1,0,2]]\n",
    "img = [[256,256,256,256,256,256],[256,12,14,23,13,256],[256,16,11,21,18,256],[256,21,24,23,12,256],[256,12,21,20,10,256],[256,256,256,256,256,256]]\n",
    "img1 = [[0,0,0,0],[0,0,0,0],[0,0,0,0],[0,0,0,0]]"
   ]
  },
  {
   "cell_type": "code",
   "execution_count": 52,
   "metadata": {
    "collapsed": true
   },
   "outputs": [],
   "source": [
    "for i in range(1,5):\n",
    "    for j in range(1,5):\n",
    "        m, n = i-1,j-1\n",
    "        l1 = [img[i-1][j-1], img[i-1][j], img[i-1][j+1], img[i][j-1], img[i][j], img[i][j+1], img[i+1][j-1], img[i+1][j], img[i+1][j+1]]\n",
    "        min1 = l1.index(min(l1))\n",
    "        n = n + min1%3\n",
    "        m = m + min1//3\n",
    "        img1[i-1][j-1]=filt[m-1][n-1]"
   ]
  },
  {
   "cell_type": "code",
   "execution_count": 53,
   "metadata": {
    "collapsed": false
   },
   "outputs": [
    {
     "name": "stdout",
     "output_type": "stream",
     "text": [
      "[[7, 7, 7, 2], [7, 7, 7, 2], [7, 7, 2, 2], [0, 0, 2, 2]]\n"
     ]
    }
   ],
   "source": [
    "print(img1)"
   ]
  },
  {
   "cell_type": "code",
   "execution_count": null,
   "metadata": {
    "collapsed": true
   },
   "outputs": [],
   "source": []
  }
 ],
 "metadata": {
  "anaconda-cloud": {},
  "kernelspec": {
   "display_name": "Python [conda env:Anaconda3]",
   "language": "python",
   "name": "conda-env-Anaconda3-py"
  },
  "language_info": {
   "codemirror_mode": {
    "name": "ipython",
    "version": 3
   },
   "file_extension": ".py",
   "mimetype": "text/x-python",
   "name": "python",
   "nbconvert_exporter": "python",
   "pygments_lexer": "ipython3",
   "version": "3.5.6"
  }
 },
 "nbformat": 4,
 "nbformat_minor": 2
}
