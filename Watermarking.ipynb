{
 "cells": [
  {
   "cell_type": "code",
   "execution_count": 4,
   "metadata": {},
   "outputs": [],
   "source": [
    "from PIL import Image\n",
    "\n",
    "from sys import argv\n",
    "from qrcode import make as makeQR\n",
    "\n",
    "qr = makeQR(\"VIVEK\")\n",
    "qw, qh = qr.size\n",
    "\n",
    "im = Image.open(\"lena.png\")\n",
    "w, h = im.size\n",
    "\n",
    "if qw > w:\n",
    "    qr = qr.resize((w, w))\n",
    "elif qh > h:\n",
    "    qr = qr.resize((h, h))\n",
    "    qw, qh = qr.size\n",
    "\n",
    "imd = im.load()\n",
    "for i in range(w):\n",
    "    for j in range(h):\n",
    "        d = imd[i, j]\n",
    "        imd[i, j] = d[:-1] +((d[-1] | 1) if qr.getpixel((i%qw, j%qh)) else (d[-1] & ~1),)\n",
    "        #imd[i, j] = (*d[:-1], (d[-1] | 0b11) if qr.getpixel((i%qw, j%qh)) else (d[-1] & ~0b11))\n",
    "        #imd[i, j] = (*d[:-1], (d[-1] | 0b111) if qr.getpixel((i%qw, j%qh)) else (d[-1] & ~0b111))\n",
    "\n",
    "from os.path import splitext\n",
    "root, ext = splitext(argv[2])\n",
    "im.save(root+'_watermark.png')"
   ]
  },
  {
   "cell_type": "code",
   "execution_count": 2,
   "metadata": {},
   "outputs": [
    {
     "name": "stdout",
     "output_type": "stream",
     "text": [
      "Collecting qrcode\n",
      "  Downloading https://files.pythonhosted.org/packages/42/87/4a3a77e59ab7493d64da1f69bf1c2e899a4cf81e51b2baa855e8cc8115be/qrcode-6.1-py2.py3-none-any.whl\n",
      "Requirement already satisfied: six in c:\\users\\vivek_sh99\\anaconda3\\lib\\site-packages (from qrcode) (1.12.0)\n",
      "Requirement already satisfied: colorama; platform_system == \"Windows\" in c:\\users\\vivek_sh99\\anaconda3\\lib\\site-packages (from qrcode) (0.4.1)\n",
      "Installing collected packages: qrcode\n",
      "Successfully installed qrcode-6.1\n",
      "Note: you may need to restart the kernel to use updated packages.\n"
     ]
    }
   ],
   "source": [
    "pip install qrcode"
   ]
  },
  {
   "cell_type": "code",
   "execution_count": null,
   "metadata": {},
   "outputs": [],
   "source": []
  }
 ],
 "metadata": {
  "kernelspec": {
   "display_name": "Python 3",
   "language": "python",
   "name": "python3"
  },
  "language_info": {
   "codemirror_mode": {
    "name": "ipython",
    "version": 3
   },
   "file_extension": ".py",
   "mimetype": "text/x-python",
   "name": "python",
   "nbconvert_exporter": "python",
   "pygments_lexer": "ipython3",
   "version": "3.7.4"
  }
 },
 "nbformat": 4,
 "nbformat_minor": 4
}
