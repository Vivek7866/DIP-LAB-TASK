{
 "cells": [
  {
   "cell_type": "code",
   "execution_count": 13,
   "metadata": {},
   "outputs": [],
   "source": [
    "from PIL import Image\n",
    "\n",
    "from sys import argv\n",
    "from qrcode import make as makeQR\n",
    "\n",
    "qr = makeQR(\"kritika\")\n",
    "qw, qh = qr.size\n",
    "\n",
    "im = Image.open(\"lena.png\")\n",
    "w, h = im.size\n",
    "\n",
    "if qw > w:\n",
    "    qr = qr.resize((w, w))\n",
    "elif qh > h:\n",
    "    qr = qr.resize((h, h))\n",
    "    qw, qh = qr.size\n",
    "\n",
    "imd = im.load()\n",
    "for i in range(w):\n",
    "    for j in range(h):\n",
    "        d = imd[i, j]\n",
    "        imd[i, j] = d[:-1] +((d[-1] | 1) if qr.getpixel((i%qw, j%qh)) else (d[-1] & ~1),)\n",
    "        #imd[i, j] = (*d[:-1], (d[-1] | 0b11) if qr.getpixel((i%qw, j%qh)) else (d[-1] & ~0b11))\n",
    "        #imd[i, j] = (*d[:-1], (d[-1] | 0b111) if qr.getpixel((i%qw, j%qh)) else (d[-1] & ~0b111))\n",
    "\n",
    "from os.path import splitext\n",
    "root, ext = splitext(argv[2])\n",
    "im.save(root+'_watermark.png')"
   ]
  },
  {
   "cell_type": "code",
   "execution_count": null,
   "metadata": {},
   "outputs": [],
   "source": []
  }
 ],
 "metadata": {
  "kernelspec": {
   "display_name": "Python 3",
   "language": "python",
   "name": "python3"
  },
  "language_info": {
   "codemirror_mode": {
    "name": "ipython",
    "version": 3
   },
   "file_extension": ".py",
   "mimetype": "text/x-python",
   "name": "python",
   "nbconvert_exporter": "python",
   "pygments_lexer": "ipython3",
   "version": "3.7.6"
  }
 },
 "nbformat": 4,
 "nbformat_minor": 4
}
